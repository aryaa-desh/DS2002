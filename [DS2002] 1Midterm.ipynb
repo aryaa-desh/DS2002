{
 "cells": [
  {
   "cell_type": "code",
   "execution_count": null,
   "id": "96a32758-a290-44d3-9d24-05f1d2281c1b",
   "metadata": {},
   "outputs": [],
   "source": []
  },
  {
   "cell_type": "code",
   "execution_count": null,
   "id": "9cd5559f-9f0b-41d4-85c9-aade4072ccdb",
   "metadata": {},
   "outputs": [],
   "source": []
  },
  {
   "cell_type": "code",
   "execution_count": null,
   "id": "63a861f4-8bd1-4371-8f05-60719ef435ac",
   "metadata": {},
   "outputs": [],
   "source": []
  },
  {
   "cell_type": "code",
   "execution_count": 107,
   "id": "7b4c86d0-2b0d-4028-8c13-bc787cc943af",
   "metadata": {},
   "outputs": [],
   "source": [
    "# using python to perform ETL"
   ]
  },
  {
   "cell_type": "code",
   "execution_count": 109,
   "id": "bc9f82cb-cb55-42f4-930d-0308a970cc97",
   "metadata": {},
   "outputs": [
    {
     "name": "stdout",
     "output_type": "stream",
     "text": [
      "Requirement already satisfied: pymongo in /opt/anaconda3/lib/python3.12/site-packages (4.11.2)\n",
      "Requirement already satisfied: dnspython<3.0.0,>=1.16.0 in /opt/anaconda3/lib/python3.12/site-packages (from pymongo) (2.7.0)\n"
     ]
    }
   ],
   "source": [
    "%%python -m pip install pymongo\n",
    "!pip install sqlalchemy"
   ]
  },
  {
   "cell_type": "code",
   "execution_count": 110,
   "id": "4f6848a9-ae77-4345-a6b4-d0b4c2ddcd4e",
   "metadata": {},
   "outputs": [],
   "source": [
    "import os\n",
    "import json\n",
    "import numpy\n",
    "import datetime\n",
    "import certifi\n",
    "import pandas as pd\n",
    "\n",
    "import pymongo\n",
    "import sqlalchemy\n",
    "from sqlalchemy import create_engine, text"
   ]
  },
  {
   "cell_type": "code",
   "execution_count": null,
   "id": "6c1fe82c-5dc9-4154-b3bf-b3a22b0c3dc2",
   "metadata": {},
   "outputs": [],
   "source": []
  },
  {
   "cell_type": "code",
   "execution_count": 112,
   "id": "d3d3a60c-65e9-4166-8816-17d0a817f7fd",
   "metadata": {},
   "outputs": [
    {
     "name": "stdout",
     "output_type": "stream",
     "text": [
      "Running SQL Alchemy Version: 2.0.34\n",
      "Running PyMongo Version: 4.11.2\n"
     ]
    }
   ],
   "source": [
    "print(f\"Running SQL Alchemy Version: {sqlalchemy.__version__}\")\n",
    "print(f\"Running PyMongo Version: {pymongo.__version__}\")"
   ]
  },
  {
   "cell_type": "code",
   "execution_count": 113,
   "id": "60da59d8-5084-4db2-8302-317bd325f230",
   "metadata": {},
   "outputs": [],
   "source": [
    "# MongoDB: Declare and Assign Connection Variables for the MongoDB Server \n",
    "mysql_args = {\n",
    "    \"uid\" : \"root\",\n",
    "    \"pwd\" : \"Strawberrylime\",\n",
    "    \"hostname\" : \"localhost\",\n",
    "    \"dbname\" : \"classicmodels_dw\"\n",
    "}\n",
    "conn_str = f\"mysql+pymysql://{mysql_args['uid']}:{mysql_args['pwd']}@{mysql_args['hostname']}/{mysql_args['dbname']}\"\n",
    "sqlEngine = create_engine(conn_str, pool_recycle=3600)\n",
    "\n",
    "# The 'cluster_location' must either be \"atlas\" or \"local\".\n",
    "mongodb_args = {\n",
    "    \"user_name\" : \"aryaa_desh\",\n",
    "    \"password\" : \"Strawberrylime\",\n",
    "    \"cluster_name\" : \"Cluster0\",\n",
    "    \"cluster_subnet\" : \"xxxxx\",\n",
    "    \"cluster_location\" : \"local\", # \"local\"\n",
    "    \"db_name\" : \"classicmodels_dw\" ## Why does this say \"northwind_purchasing\"?\n",
    "}"
   ]
  },
  {
   "cell_type": "code",
   "execution_count": 115,
   "id": "4101c5ca-1238-4143-8144-cce5ba95ac03",
   "metadata": {},
   "outputs": [],
   "source": [
    "# Declare & Assign Connection Variables for the MySQL Server & Databases with which You'll be Working\n",
    "host_name = \"localhost\"\n",
    "port = \"3306\"\n",
    "user_id = \"root\"\n",
    "pwd = \"Strawberrylime\"\n",
    "\n",
    "src_dbname = \"classicmodels\"\n",
    "dst_dbname = \"classicmodels_dw\""
   ]
  },
  {
   "cell_type": "code",
   "execution_count": 120,
   "id": "3f1441c0-5d0b-4d43-9a68-9eaf9f409bc2",
   "metadata": {},
   "outputs": [],
   "source": [
    "# Define Functions for Getting Data From and Setting Data into Database for MongoDB\n",
    "def get_sql_dataframe(sql_query, **args):\n",
    "    '''Create a connection to the MySQL database'''\n",
    "    conn_str = f\"mysql+pymysql://{args['uid']}:{args['pwd']}@{args['hostname']}/{args['dbname']}\"\n",
    "    sqlEngine = create_engine(conn_str, pool_recycle=3600)\n",
    "    connection = sqlEngine.connect()\n",
    "    \n",
    "    '''Invoke the pd.read_sql() function to query the database, and fill a Pandas DataFrame.'''\n",
    "    dframe = pd.read_sql(text(sql_query), connection);\n",
    "    connection.close()\n",
    "    \n",
    "    return dframe\n",
    "    \n",
    "\n",
    "# def set_dataframe(df, table_name, pk_column, db_operation, **args):\n",
    "#     '''Create a connection to the MySQL database'''\n",
    "#     conn_str = f\"mysql+pymysql://{args['uid']}:{args['pwd']}@{args['hostname']}/{args['dbname']}\"\n",
    "#     sqlEngine = create_engine(conn_str, pool_recycle=3600)\n",
    "#     connection = sqlEngine.connect()\n",
    "    \n",
    "#     '''Invoke the Pandas DataFrame .to_sql( ) function to either create, or append to, a table'''\n",
    "#     if db_operation == \"insert\":\n",
    "#         df.to_sql(table_name, con=connection, index=False, if_exists='append')\n",
    "#         connection.execute(text(f\"ALTER TABLE {table_name} ADD PRIMARY KEY ({pk_column});\"))\n",
    "            \n",
    "#     elif db_operation == \"update\":\n",
    "#         df.to_sql(table_name, con=connection, index=False, if_exists='append')\n",
    "    \n",
    "#     connection.close()\n",
    "\n",
    "def get_mongo_client(**args):\n",
    "    '''Validate proper input'''\n",
    "    if args[\"cluster_location\"] not in ['atlas', 'local']:\n",
    "        raise Exception(\"You must specify either 'atlas' or 'local' for the cluster_location parameter.\")\n",
    "    \n",
    "    else:\n",
    "        if args[\"cluster_location\"] == \"atlas\":\n",
    "            connect_str = f\"mongodb+srv://{args['user_name']}:{args['password']}@\"\n",
    "            connect_str += f\"{args['cluster_name']}.{args['cluster_subnet']}.mongodb.net\"\n",
    "            client = pymongo.MongoClient(connect_str, tlsCAFile=certifi.where())\n",
    "            \n",
    "        elif args[\"cluster_location\"] == \"local\":\n",
    "            client = pymongo.MongoClient(\"mongodb://localhost:27017/\")\n",
    "        \n",
    "    return client\n",
    "\n",
    "\n",
    "def get_mongo_dataframe(mongo_client, db_name, collection, query):\n",
    "    '''Query MongoDB, and fill a python list with documents to create a DataFrame'''\n",
    "    db = mongo_client[db_name]\n",
    "    dframe = pd.DataFrame(list(db[collection].find(query)))\n",
    "    dframe.drop(['_id'], axis=1, inplace=True)\n",
    "    mongo_client.close()\n",
    "    \n",
    "    return dframe\n",
    "\n",
    "\n",
    "def set_mongo_collections(mongo_client, db_name, data_directory, json_files):\n",
    "    db = mongo_client[db_name]\n",
    "    \n",
    "    for file in json_files:\n",
    "        db.drop_collection(file)\n",
    "        json_file = os.path.join(data_directory, json_files[file])\n",
    "        with open(json_file, 'r') as openfile:\n",
    "            json_object = json.load(openfile)\n",
    "            file = db[file]\n",
    "            result = file.insert_many(json_object)\n",
    "        \n",
    "    mongo_client.close()\n"
   ]
  },
  {
   "cell_type": "code",
   "execution_count": 122,
   "id": "679167c8-d629-40f9-a10d-0ddbb4719f29",
   "metadata": {},
   "outputs": [
    {
     "name": "stdout",
     "output_type": "stream",
     "text": [
      "Data successfully inserted into `orders` table in `classicmodels_dw` database.\n"
     ]
    }
   ],
   "source": [
    "# Define CSV File Path (Ensure the file is in the correct directory)\n",
    "data_dir = os.getcwd()  # Adjust if necessary\n",
    "data_file = os.path.join(data_dir, \"orders.csv\")\n",
    "\n",
    "# Read CSV into Pandas DataFrame\n",
    "df = pd.read_csv(data_file)\n",
    "\n",
    "# Load Data into MySQL\n",
    "table_name = \"orders\"  # Ensure this matches your MySQL table name\n",
    "df.to_sql(name=table_name, con=sqlEngine, if_exists=\"replace\", index=False)\n",
    "\n",
    "print(f\"Data successfully inserted into `{table_name}` table in `{mysql_args['dbname']}` database.\")"
   ]
  },
  {
   "cell_type": "code",
   "execution_count": 124,
   "id": "6ac909f8-b88f-4a3c-b1f4-a8a9d410bf25",
   "metadata": {},
   "outputs": [],
   "source": [
    "# Populate MongoDB with Source Data"
   ]
  },
  {
   "cell_type": "code",
   "execution_count": 126,
   "id": "c12f10e9-7799-4c03-887f-5cc40d5714ed",
   "metadata": {},
   "outputs": [
    {
     "name": "stdout",
     "output_type": "stream",
     "text": [
      "Server:\t\t128.143.2.7\n",
      "Address:\t128.143.2.7#53\n",
      "\n",
      "** server can't find cluster_name.xxxxx.mongodb.net: NXDOMAIN\n",
      "\n"
     ]
    }
   ],
   "source": [
    "!nslookup cluster_name.xxxxx.mongodb.net"
   ]
  },
  {
   "cell_type": "code",
   "execution_count": 128,
   "id": "d2a45bf7-90f1-4710-9868-e4fb56e55349",
   "metadata": {},
   "outputs": [
    {
     "name": "stdout",
     "output_type": "stream",
     "text": [
      "Current working directory: /Users/aryaadeshpande/Desktop\n"
     ]
    }
   ],
   "source": [
    "client = get_mongo_client(**mongodb_args)\n",
    "\n",
    "# Gets the path of the Current Working Directory for this Notebook,\n",
    "# and then Appends the 'data' directory.\n",
    "data_dir = os.path.join(os.getcwd(), 'data')\n",
    "print(f\"Current working directory: {os.getcwd()}\")\n",
    "\n",
    "json_files = {\"payments\" : 'payments.json'}\n",
    "\n",
    "set_mongo_collections(client, mongodb_args[\"db_name\"], data_dir, json_files)      "
   ]
  },
  {
   "cell_type": "code",
   "execution_count": 130,
   "id": "fbf50ac2-63d4-4c2a-9e89-e2aefe6a5c80",
   "metadata": {},
   "outputs": [
    {
     "data": {
      "text/html": [
       "<div>\n",
       "<style scoped>\n",
       "    .dataframe tbody tr th:only-of-type {\n",
       "        vertical-align: middle;\n",
       "    }\n",
       "\n",
       "    .dataframe tbody tr th {\n",
       "        vertical-align: top;\n",
       "    }\n",
       "\n",
       "    .dataframe thead th {\n",
       "        text-align: right;\n",
       "    }\n",
       "</style>\n",
       "<table border=\"1\" class=\"dataframe\">\n",
       "  <thead>\n",
       "    <tr style=\"text-align: right;\">\n",
       "      <th></th>\n",
       "      <th>customerNumber</th>\n",
       "      <th>checkNumber</th>\n",
       "      <th>paymentDate</th>\n",
       "      <th>amount</th>\n",
       "    </tr>\n",
       "  </thead>\n",
       "  <tbody>\n",
       "    <tr>\n",
       "      <th>0</th>\n",
       "      <td>103</td>\n",
       "      <td>HQ336336</td>\n",
       "      <td>2004-10-19</td>\n",
       "      <td>6066.78</td>\n",
       "    </tr>\n",
       "    <tr>\n",
       "      <th>1</th>\n",
       "      <td>103</td>\n",
       "      <td>JM555205</td>\n",
       "      <td>2003-06-05</td>\n",
       "      <td>14571.44</td>\n",
       "    </tr>\n",
       "  </tbody>\n",
       "</table>\n",
       "</div>"
      ],
      "text/plain": [
       "   customerNumber checkNumber paymentDate    amount\n",
       "0             103    HQ336336  2004-10-19   6066.78\n",
       "1             103    JM555205  2003-06-05  14571.44"
      ]
     },
     "execution_count": 130,
     "metadata": {},
     "output_type": "execute_result"
    }
   ],
   "source": [
    "\n",
    "# Extract Data from the Source MongoDV Collections into DataFrames\n",
    "client = pymongo.MongoClient(\"mongodb://localhost:27017/\")  # Adjust the URI as needed\n",
    "db = client[\"db_name\"]\n",
    "\n",
    "client = get_mongo_client(**mongodb_args)\n",
    "\n",
    "query = {} # Select all elements (columns), and all documents (rows).\n",
    "collection = \"payments\"\n",
    "\n",
    "df_payments = get_mongo_dataframe(client, mongodb_args[\"db_name\"], collection, query)\n",
    "df_payments.head(2)"
   ]
  },
  {
   "cell_type": "code",
   "execution_count": 132,
   "id": "a4ec9e0b-b94e-4e4c-a0b3-3b5be336c5f3",
   "metadata": {},
   "outputs": [],
   "source": [
    "# At this point, run the [DS2002 Midterm dim_date SQL file]"
   ]
  },
  {
   "cell_type": "code",
   "execution_count": null,
   "id": "e5b619d2-f012-4413-a6b2-726c9226d27c",
   "metadata": {},
   "outputs": [],
   "source": []
  },
  {
   "cell_type": "code",
   "execution_count": 135,
   "id": "fb50828d-452b-44f2-843e-caf8e7909767",
   "metadata": {},
   "outputs": [
    {
     "data": {
      "text/html": [
       "<div>\n",
       "<style scoped>\n",
       "    .dataframe tbody tr th:only-of-type {\n",
       "        vertical-align: middle;\n",
       "    }\n",
       "\n",
       "    .dataframe tbody tr th {\n",
       "        vertical-align: top;\n",
       "    }\n",
       "\n",
       "    .dataframe thead th {\n",
       "        text-align: right;\n",
       "    }\n",
       "</style>\n",
       "<table border=\"1\" class=\"dataframe\">\n",
       "  <thead>\n",
       "    <tr style=\"text-align: right;\">\n",
       "      <th></th>\n",
       "      <th>date_key</th>\n",
       "      <th>full_date</th>\n",
       "    </tr>\n",
       "  </thead>\n",
       "  <tbody>\n",
       "    <tr>\n",
       "      <th>0</th>\n",
       "      <td>20000101</td>\n",
       "      <td>2000-01-01</td>\n",
       "    </tr>\n",
       "    <tr>\n",
       "      <th>1</th>\n",
       "      <td>20000102</td>\n",
       "      <td>2000-01-02</td>\n",
       "    </tr>\n",
       "    <tr>\n",
       "      <th>2</th>\n",
       "      <td>20000103</td>\n",
       "      <td>2000-01-03</td>\n",
       "    </tr>\n",
       "    <tr>\n",
       "      <th>3</th>\n",
       "      <td>20000104</td>\n",
       "      <td>2000-01-04</td>\n",
       "    </tr>\n",
       "    <tr>\n",
       "      <th>4</th>\n",
       "      <td>20000105</td>\n",
       "      <td>2000-01-05</td>\n",
       "    </tr>\n",
       "    <tr>\n",
       "      <th>5</th>\n",
       "      <td>20000106</td>\n",
       "      <td>2000-01-06</td>\n",
       "    </tr>\n",
       "    <tr>\n",
       "      <th>6</th>\n",
       "      <td>20000107</td>\n",
       "      <td>2000-01-07</td>\n",
       "    </tr>\n",
       "    <tr>\n",
       "      <th>7</th>\n",
       "      <td>20000108</td>\n",
       "      <td>2000-01-08</td>\n",
       "    </tr>\n",
       "    <tr>\n",
       "      <th>8</th>\n",
       "      <td>20000109</td>\n",
       "      <td>2000-01-09</td>\n",
       "    </tr>\n",
       "    <tr>\n",
       "      <th>9</th>\n",
       "      <td>20000110</td>\n",
       "      <td>2000-01-10</td>\n",
       "    </tr>\n",
       "  </tbody>\n",
       "</table>\n",
       "</div>"
      ],
      "text/plain": [
       "   date_key   full_date\n",
       "0  20000101  2000-01-01\n",
       "1  20000102  2000-01-02\n",
       "2  20000103  2000-01-03\n",
       "3  20000104  2000-01-04\n",
       "4  20000105  2000-01-05\n",
       "5  20000106  2000-01-06\n",
       "6  20000107  2000-01-07\n",
       "7  20000108  2000-01-08\n",
       "8  20000109  2000-01-09\n",
       "9  20000110  2000-01-10"
      ]
     },
     "execution_count": 135,
     "metadata": {},
     "output_type": "execute_result"
    }
   ],
   "source": [
    "# Look up the payments_date keys from the date dimension table\n",
    "sql_dim_date = \"SELECT date_key, full_date FROM classicmodels_dw.dim_date;\"\n",
    "df_dim_date = get_sql_dataframe(sql_dim_date, **mysql_args)\n",
    "df_dim_date.full_date = df_dim_date.full_date.astype('datetime64[ns]').dt.date\n",
    "df_dim_date.head(10)\n"
   ]
  },
  {
   "cell_type": "code",
   "execution_count": 137,
   "id": "6f3209e4-5319-4bf8-8b8e-3da24a597b0c",
   "metadata": {},
   "outputs": [
    {
     "data": {
      "text/html": [
       "<div>\n",
       "<style scoped>\n",
       "    .dataframe tbody tr th:only-of-type {\n",
       "        vertical-align: middle;\n",
       "    }\n",
       "\n",
       "    .dataframe tbody tr th {\n",
       "        vertical-align: top;\n",
       "    }\n",
       "\n",
       "    .dataframe thead th {\n",
       "        text-align: right;\n",
       "    }\n",
       "</style>\n",
       "<table border=\"1\" class=\"dataframe\">\n",
       "  <thead>\n",
       "    <tr style=\"text-align: right;\">\n",
       "      <th></th>\n",
       "      <th>customerNumber</th>\n",
       "      <th>checkNumber</th>\n",
       "      <th>amount</th>\n",
       "      <th>paymentDate_key</th>\n",
       "    </tr>\n",
       "  </thead>\n",
       "  <tbody>\n",
       "    <tr>\n",
       "      <th>0</th>\n",
       "      <td>103</td>\n",
       "      <td>HQ336336</td>\n",
       "      <td>6066.78</td>\n",
       "      <td>20041019</td>\n",
       "    </tr>\n",
       "    <tr>\n",
       "      <th>1</th>\n",
       "      <td>103</td>\n",
       "      <td>JM555205</td>\n",
       "      <td>14571.44</td>\n",
       "      <td>20030605</td>\n",
       "    </tr>\n",
       "  </tbody>\n",
       "</table>\n",
       "</div>"
      ],
      "text/plain": [
       "   customerNumber checkNumber    amount  paymentDate_key\n",
       "0             103    HQ336336   6066.78         20041019\n",
       "1             103    JM555205  14571.44         20030605"
      ]
     },
     "execution_count": 137,
     "metadata": {},
     "output_type": "execute_result"
    }
   ],
   "source": [
    "# Look up the Surrogate Primary Key (date_key) that corresponds to the paymentDate column\n",
    "\n",
    "df_dim_paymentDate = df_dim_date.rename(columns={\"date_key\" : \"paymentDate_key\", \"full_date\" : \"paymentDate\"})\n",
    "df_payments.paymentDate = df_payments.paymentDate.astype('datetime64[ns]').dt.date\n",
    "df_payments = pd.merge(df_payments, df_dim_paymentDate, on='paymentDate', how='left')\n",
    "df_payments.drop(['paymentDate'], axis=1, inplace=True)\n",
    "df_payments.head(2)"
   ]
  },
  {
   "cell_type": "code",
   "execution_count": 139,
   "id": "e1605ab2-bc97-493d-8225-031dfc3e7cce",
   "metadata": {},
   "outputs": [
    {
     "data": {
      "text/html": [
       "<div>\n",
       "<style scoped>\n",
       "    .dataframe tbody tr th:only-of-type {\n",
       "        vertical-align: middle;\n",
       "    }\n",
       "\n",
       "    .dataframe tbody tr th {\n",
       "        vertical-align: top;\n",
       "    }\n",
       "\n",
       "    .dataframe thead th {\n",
       "        text-align: right;\n",
       "    }\n",
       "</style>\n",
       "<table border=\"1\" class=\"dataframe\">\n",
       "  <thead>\n",
       "    <tr style=\"text-align: right;\">\n",
       "      <th></th>\n",
       "      <th>payment_key</th>\n",
       "      <th>customerNumber</th>\n",
       "      <th>amount</th>\n",
       "      <th>paymentDate_key</th>\n",
       "    </tr>\n",
       "  </thead>\n",
       "  <tbody>\n",
       "    <tr>\n",
       "      <th>0</th>\n",
       "      <td>1</td>\n",
       "      <td>103</td>\n",
       "      <td>6066.78</td>\n",
       "      <td>20041019</td>\n",
       "    </tr>\n",
       "    <tr>\n",
       "      <th>1</th>\n",
       "      <td>2</td>\n",
       "      <td>103</td>\n",
       "      <td>14571.44</td>\n",
       "      <td>20030605</td>\n",
       "    </tr>\n",
       "  </tbody>\n",
       "</table>\n",
       "</div>"
      ],
      "text/plain": [
       "   payment_key  customerNumber    amount  paymentDate_key\n",
       "0            1             103   6066.78         20041019\n",
       "1            2             103  14571.44         20030605"
      ]
     },
     "execution_count": 139,
     "metadata": {},
     "output_type": "execute_result"
    }
   ],
   "source": [
    "# Perform Any Necessary Transformations to the DataFrames\n",
    "\n",
    "# 3. Insert a new column, with an ever-incrementing numeric value, to serve as the primary key.\n",
    "df_payments.drop(['checkNumber'], axis=1, inplace=True)\n",
    "df_payments.insert(0, \"payment_key\", range(1, df_payments.shape[0]+1))\n",
    "df_payments.head(2)"
   ]
  },
  {
   "cell_type": "code",
   "execution_count": 141,
   "id": "296d0779-08bb-428e-b781-d6ccc46cc2c8",
   "metadata": {},
   "outputs": [],
   "source": [
    "# Load the transformed payments DataFrames into the New Data Warehouse by creating new tables"
   ]
  },
  {
   "cell_type": "code",
   "execution_count": null,
   "id": "ff33a957-5072-445e-a348-0e51dfa6972a",
   "metadata": {},
   "outputs": [],
   "source": []
  },
  {
   "cell_type": "code",
   "execution_count": 144,
   "id": "b1aef347-2e45-49e7-8452-154b9d47f3c8",
   "metadata": {},
   "outputs": [],
   "source": [
    "# # Define Functions for Getting Data From and Setting Data Into Databases\n",
    "def get_dataframe(user_id, pwd, host_name, db_name, sql_query):\n",
    "    conn_str = f\"mysql+pymysql://{user_id}:{pwd}@{host_name}/{db_name}\"\n",
    "    sqlEngine = create_engine(conn_str, pool_recycle=3600)\n",
    "    connection = sqlEngine.connect()\n",
    "    dframe = pd.read_sql(sql_query, connection);\n",
    "    connection.close()\n",
    "    \n",
    "    return dframe\n",
    "\n",
    "\n",
    "# def set_dataframe(user_id, pwd, host_name, db_name, df, table_name, pk_column, db_operation):\n",
    "#     conn_str = f\"mysql+pymysql://{user_id}:{pwd}@{host_name}/{db_name}\"\n",
    "#     sqlEngine = create_engine(conn_str, pool_recycle=3600)\n",
    "#     connection = sqlEngine.connect()\n",
    "    \n",
    "#     if db_operation == \"insert\":\n",
    "#         df.to_sql(table_name, con=connection, index=False, if_exists='replace')\n",
    "#         connection.execute(text(f\"ALTER TABLE {table_name} ADD PRIMARY KEY ({pk_column});\"))\n",
    "            \n",
    "#     elif db_operation == \"update\":\n",
    "#         df.to_sql(table_name, con=connection, index=False, if_exists='append')\n",
    "    \n",
    "#     connection.close()\n",
    "\n",
    "def set_dataframe(df, table_name, pk_column, db_operation, **args):\n",
    "    '''Create a connection to the MySQL database'''\n",
    "    conn_str = f\"mysql+pymysql://{args['uid']}:{args['pwd']}@{args['hostname']}/{args['dbname']}\"\n",
    "    sqlEngine = create_engine(conn_str, pool_recycle=3600)\n",
    "    connection = sqlEngine.connect()\n",
    "\n",
    "    # Debugging the query and connection\n",
    "    print(f\"Inserting into {table_name} with primary key {pk_column}\")\n",
    "\n",
    "    # Safely insert or update data\n",
    "    if db_operation == \"insert\":\n",
    "        try:\n",
    "            df.to_sql(table_name, con=connection, index=False, if_exists='append')  # Append data without replacing\n",
    "            print(\"Data inserted successfully.\")\n",
    "        except Exception as e:\n",
    "            print(f\"Error inserting data into {table_name}: {e}\")\n",
    "\n",
    "        # Ensure the primary key column exists with AUTO_INCREMENT before inserting\n",
    "        try:\n",
    "            # Check if the column exists\n",
    "            result = connection.execute(f\"SHOW COLUMNS FROM {table_name} LIKE '{pk_column}';\")\n",
    "            if not result.fetchone():\n",
    "                print(f\"Adding primary key column {pk_column} as AUTO_INCREMENT.\")\n",
    "                # Add primary key if it doesn't exist\n",
    "                connection.execute(f\"ALTER TABLE {table_name} ADD COLUMN {pk_column} INT AUTO_INCREMENT PRIMARY KEY;\")\n",
    "        except Exception as e:\n",
    "            print(f\"Error adding primary key to {table_name}: {e}\")\n",
    "\n",
    "    elif db_operation == \"replace\":\n",
    "        try:\n",
    "            df.to_sql(table_name, con=connection, index=False, if_exists='replace')  # ⚠️ Use this carefully!\n",
    "            connection.execute(f\"ALTER TABLE {table_name} ADD PRIMARY KEY ({pk_column});\")\n",
    "            print(\"Data replaced successfully.\")\n",
    "        except Exception as e:\n",
    "            print(f\"Error replacing data into {table_name}: {e}\")\n",
    "\n",
    "    connection.close()\n"
   ]
  },
  {
   "cell_type": "code",
   "execution_count": 146,
   "id": "2e417712-581f-4d57-9480-a3bfbdf8e2af",
   "metadata": {},
   "outputs": [
    {
     "name": "stdout",
     "output_type": "stream",
     "text": [
      "Inserting into dim_payments with primary key payment_key\n"
     ]
    }
   ],
   "source": [
    "# TODO: Upload the \"payments\" dataframe to create the new \"dim_payments\" dimension table\n",
    "# Check for duplicates in the payment_key column\n",
    "\n",
    "dataframe = df_payments\n",
    "table_name = 'dim_payments'\n",
    "primary_key = 'payment_key'\n",
    "db_operation = \"update\"\n",
    "\n",
    "set_dataframe(dataframe, table_name, primary_key, db_operation, **mysql_args)"
   ]
  },
  {
   "cell_type": "code",
   "execution_count": 148,
   "id": "8991fea4-970c-431f-afac-a6beb2a97821",
   "metadata": {},
   "outputs": [],
   "source": [
    "# fetching data for dimensions table"
   ]
  },
  {
   "cell_type": "code",
   "execution_count": 150,
   "id": "cd388fba-55da-4cdb-8165-356e9a198a39",
   "metadata": {
    "scrolled": true
   },
   "outputs": [
    {
     "data": {
      "text/html": [
       "<div>\n",
       "<style scoped>\n",
       "    .dataframe tbody tr th:only-of-type {\n",
       "        vertical-align: middle;\n",
       "    }\n",
       "\n",
       "    .dataframe tbody tr th {\n",
       "        vertical-align: top;\n",
       "    }\n",
       "\n",
       "    .dataframe thead th {\n",
       "        text-align: right;\n",
       "    }\n",
       "</style>\n",
       "<table border=\"1\" class=\"dataframe\">\n",
       "  <thead>\n",
       "    <tr style=\"text-align: right;\">\n",
       "      <th></th>\n",
       "      <th>customerNumber</th>\n",
       "      <th>customerName</th>\n",
       "      <th>contactLastName</th>\n",
       "      <th>contactFirstName</th>\n",
       "      <th>phone</th>\n",
       "      <th>addressLine1</th>\n",
       "      <th>addressLine2</th>\n",
       "      <th>city</th>\n",
       "      <th>state</th>\n",
       "      <th>postalCode</th>\n",
       "      <th>country</th>\n",
       "      <th>salesRepEmployeeNumber</th>\n",
       "      <th>creditLimit</th>\n",
       "    </tr>\n",
       "  </thead>\n",
       "  <tbody>\n",
       "    <tr>\n",
       "      <th>0</th>\n",
       "      <td>103</td>\n",
       "      <td>Atelier graphique</td>\n",
       "      <td>Schmitt</td>\n",
       "      <td>Carine</td>\n",
       "      <td>40.32.2555</td>\n",
       "      <td>54, rue Royale</td>\n",
       "      <td>None</td>\n",
       "      <td>Nantes</td>\n",
       "      <td>None</td>\n",
       "      <td>44000</td>\n",
       "      <td>France</td>\n",
       "      <td>1370.0</td>\n",
       "      <td>21000.0</td>\n",
       "    </tr>\n",
       "    <tr>\n",
       "      <th>1</th>\n",
       "      <td>112</td>\n",
       "      <td>Signal Gift Stores</td>\n",
       "      <td>King</td>\n",
       "      <td>Jean</td>\n",
       "      <td>7025551838</td>\n",
       "      <td>8489 Strong St.</td>\n",
       "      <td>None</td>\n",
       "      <td>Las Vegas</td>\n",
       "      <td>NV</td>\n",
       "      <td>83030</td>\n",
       "      <td>USA</td>\n",
       "      <td>1166.0</td>\n",
       "      <td>71800.0</td>\n",
       "    </tr>\n",
       "  </tbody>\n",
       "</table>\n",
       "</div>"
      ],
      "text/plain": [
       "   customerNumber        customerName contactLastName contactFirstName  \\\n",
       "0             103   Atelier graphique         Schmitt          Carine    \n",
       "1             112  Signal Gift Stores            King             Jean   \n",
       "\n",
       "        phone     addressLine1 addressLine2       city state postalCode  \\\n",
       "0  40.32.2555   54, rue Royale         None     Nantes  None      44000   \n",
       "1  7025551838  8489 Strong St.         None  Las Vegas    NV      83030   \n",
       "\n",
       "  country  salesRepEmployeeNumber  creditLimit  \n",
       "0  France                  1370.0      21000.0  \n",
       "1     USA                  1166.0      71800.0  "
      ]
     },
     "execution_count": 150,
     "metadata": {},
     "output_type": "execute_result"
    }
   ],
   "source": [
    "# fetching data from customers\n",
    "sql_customers = \"SELECT * FROM classicmodels.customers;\"\n",
    "df_customers = get_dataframe(user_id, pwd, host_name, src_dbname, sql_customers)\n",
    "df_customers.head(2)"
   ]
  },
  {
   "cell_type": "code",
   "execution_count": 152,
   "id": "4df2232c-1c8c-43e0-ba3f-14aeb4d33419",
   "metadata": {},
   "outputs": [
    {
     "data": {
      "text/html": [
       "<div>\n",
       "<style scoped>\n",
       "    .dataframe tbody tr th:only-of-type {\n",
       "        vertical-align: middle;\n",
       "    }\n",
       "\n",
       "    .dataframe tbody tr th {\n",
       "        vertical-align: top;\n",
       "    }\n",
       "\n",
       "    .dataframe thead th {\n",
       "        text-align: right;\n",
       "    }\n",
       "</style>\n",
       "<table border=\"1\" class=\"dataframe\">\n",
       "  <thead>\n",
       "    <tr style=\"text-align: right;\">\n",
       "      <th></th>\n",
       "      <th>OrderID</th>\n",
       "      <th>OrderDate</th>\n",
       "      <th>RequiredDate</th>\n",
       "      <th>ShippedDate</th>\n",
       "      <th>Status</th>\n",
       "      <th>Comments</th>\n",
       "      <th>CustomerID</th>\n",
       "    </tr>\n",
       "  </thead>\n",
       "  <tbody>\n",
       "    <tr>\n",
       "      <th>0</th>\n",
       "      <td>10100</td>\n",
       "      <td>2003-01-06</td>\n",
       "      <td>2003-01-13</td>\n",
       "      <td>2003-01-10</td>\n",
       "      <td>Shipped</td>\n",
       "      <td>None</td>\n",
       "      <td>363</td>\n",
       "    </tr>\n",
       "    <tr>\n",
       "      <th>1</th>\n",
       "      <td>10101</td>\n",
       "      <td>2003-01-09</td>\n",
       "      <td>2003-01-18</td>\n",
       "      <td>2003-01-11</td>\n",
       "      <td>Shipped</td>\n",
       "      <td>Check on availability.</td>\n",
       "      <td>128</td>\n",
       "    </tr>\n",
       "  </tbody>\n",
       "</table>\n",
       "</div>"
      ],
      "text/plain": [
       "   OrderID   OrderDate RequiredDate ShippedDate   Status  \\\n",
       "0    10100  2003-01-06   2003-01-13  2003-01-10  Shipped   \n",
       "1    10101  2003-01-09   2003-01-18  2003-01-11  Shipped   \n",
       "\n",
       "                 Comments  CustomerID  \n",
       "0                    None         363  \n",
       "1  Check on availability.         128  "
      ]
     },
     "execution_count": 152,
     "metadata": {},
     "output_type": "execute_result"
    }
   ],
   "source": [
    "# fetching data from orders\n",
    "sql_orders = \"SELECT * FROM classicmodels_dw.orders\"\n",
    "df_orders = get_dataframe(user_id, pwd, host_name, dst_dbname, sql_orders)\n",
    "df_orders.head(2)"
   ]
  },
  {
   "cell_type": "code",
   "execution_count": 154,
   "id": "ef5e7b0a-9b14-4d91-b800-94f36af502c7",
   "metadata": {},
   "outputs": [
    {
     "data": {
      "text/html": [
       "<div>\n",
       "<style scoped>\n",
       "    .dataframe tbody tr th:only-of-type {\n",
       "        vertical-align: middle;\n",
       "    }\n",
       "\n",
       "    .dataframe tbody tr th {\n",
       "        vertical-align: top;\n",
       "    }\n",
       "\n",
       "    .dataframe thead th {\n",
       "        text-align: right;\n",
       "    }\n",
       "</style>\n",
       "<table border=\"1\" class=\"dataframe\">\n",
       "  <thead>\n",
       "    <tr style=\"text-align: right;\">\n",
       "      <th></th>\n",
       "      <th>productCode</th>\n",
       "      <th>productName</th>\n",
       "      <th>productLine</th>\n",
       "      <th>productScale</th>\n",
       "      <th>productVendor</th>\n",
       "      <th>productDescription</th>\n",
       "      <th>quantityInStock</th>\n",
       "      <th>buyPrice</th>\n",
       "      <th>MSRP</th>\n",
       "    </tr>\n",
       "  </thead>\n",
       "  <tbody>\n",
       "    <tr>\n",
       "      <th>0</th>\n",
       "      <td>S10_1678</td>\n",
       "      <td>1969 Harley Davidson Ultimate Chopper</td>\n",
       "      <td>Motorcycles</td>\n",
       "      <td>1:10</td>\n",
       "      <td>Min Lin Diecast</td>\n",
       "      <td>This replica features working kickstand, front...</td>\n",
       "      <td>7933</td>\n",
       "      <td>48.81</td>\n",
       "      <td>95.7</td>\n",
       "    </tr>\n",
       "    <tr>\n",
       "      <th>1</th>\n",
       "      <td>S10_1949</td>\n",
       "      <td>1952 Alpine Renault 1300</td>\n",
       "      <td>Classic Cars</td>\n",
       "      <td>1:10</td>\n",
       "      <td>Classic Metal Creations</td>\n",
       "      <td>Turnable front wheels; steering function; deta...</td>\n",
       "      <td>7305</td>\n",
       "      <td>98.58</td>\n",
       "      <td>214.3</td>\n",
       "    </tr>\n",
       "  </tbody>\n",
       "</table>\n",
       "</div>"
      ],
      "text/plain": [
       "  productCode                            productName   productLine  \\\n",
       "0    S10_1678  1969 Harley Davidson Ultimate Chopper   Motorcycles   \n",
       "1    S10_1949               1952 Alpine Renault 1300  Classic Cars   \n",
       "\n",
       "  productScale            productVendor  \\\n",
       "0         1:10          Min Lin Diecast   \n",
       "1         1:10  Classic Metal Creations   \n",
       "\n",
       "                                  productDescription  quantityInStock  \\\n",
       "0  This replica features working kickstand, front...             7933   \n",
       "1  Turnable front wheels; steering function; deta...             7305   \n",
       "\n",
       "   buyPrice   MSRP  \n",
       "0     48.81   95.7  \n",
       "1     98.58  214.3  "
      ]
     },
     "execution_count": 154,
     "metadata": {},
     "output_type": "execute_result"
    }
   ],
   "source": [
    "# fetching data from products\n",
    "sql_products = \"SELECT * FROM classicmodels.products;\"\n",
    "df_products = get_dataframe(user_id, pwd, host_name, src_dbname, sql_products)\n",
    "df_products.head(2)"
   ]
  },
  {
   "cell_type": "code",
   "execution_count": 156,
   "id": "34a641cc-9072-43c5-af88-262f0c189d8a",
   "metadata": {},
   "outputs": [],
   "source": [
    "# Perform any necessary transformations"
   ]
  },
  {
   "cell_type": "code",
   "execution_count": 158,
   "id": "c04b7622-7417-4833-b6df-f13eb00d60c5",
   "metadata": {
    "scrolled": true
   },
   "outputs": [
    {
     "data": {
      "text/html": [
       "<div>\n",
       "<style scoped>\n",
       "    .dataframe tbody tr th:only-of-type {\n",
       "        vertical-align: middle;\n",
       "    }\n",
       "\n",
       "    .dataframe tbody tr th {\n",
       "        vertical-align: top;\n",
       "    }\n",
       "\n",
       "    .dataframe thead th {\n",
       "        text-align: right;\n",
       "    }\n",
       "</style>\n",
       "<table border=\"1\" class=\"dataframe\">\n",
       "  <thead>\n",
       "    <tr style=\"text-align: right;\">\n",
       "      <th></th>\n",
       "      <th>customer_key</th>\n",
       "      <th>customer_id</th>\n",
       "      <th>customerName</th>\n",
       "      <th>addressLine1</th>\n",
       "      <th>city</th>\n",
       "      <th>state</th>\n",
       "      <th>postalCode</th>\n",
       "      <th>country</th>\n",
       "    </tr>\n",
       "  </thead>\n",
       "  <tbody>\n",
       "    <tr>\n",
       "      <th>0</th>\n",
       "      <td>1</td>\n",
       "      <td>103</td>\n",
       "      <td>Atelier graphique</td>\n",
       "      <td>54, rue Royale</td>\n",
       "      <td>Nantes</td>\n",
       "      <td>None</td>\n",
       "      <td>44000</td>\n",
       "      <td>France</td>\n",
       "    </tr>\n",
       "    <tr>\n",
       "      <th>1</th>\n",
       "      <td>2</td>\n",
       "      <td>112</td>\n",
       "      <td>Signal Gift Stores</td>\n",
       "      <td>8489 Strong St.</td>\n",
       "      <td>Las Vegas</td>\n",
       "      <td>NV</td>\n",
       "      <td>83030</td>\n",
       "      <td>USA</td>\n",
       "    </tr>\n",
       "  </tbody>\n",
       "</table>\n",
       "</div>"
      ],
      "text/plain": [
       "   customer_key  customer_id        customerName     addressLine1       city  \\\n",
       "0             1          103   Atelier graphique   54, rue Royale     Nantes   \n",
       "1             2          112  Signal Gift Stores  8489 Strong St.  Las Vegas   \n",
       "\n",
       "  state postalCode country  \n",
       "0  None      44000  France  \n",
       "1    NV      83030     USA  "
      ]
     },
     "execution_count": 158,
     "metadata": {},
     "output_type": "execute_result"
    }
   ],
   "source": [
    "# CUSTOMERS\n",
    "# 1. Create a List that enumerates the names of each column you wish to remove (drop) from the Pandas DataFrame\n",
    "drop_cols = ['contactLastName','contactFirstName','phone','addressLine2','salesRepEmployeeNumber','creditLimit']\n",
    "df_customers.drop(drop_cols, axis=1, inplace=True)\n",
    "\n",
    "# 2. Rename the \"customerNumber\" column to \"customer_id\" to reflect the entity as it will serve as the business key for lookup operations\n",
    "df_customers.rename(columns={\"customerNumber\":\"customer_id\"}, inplace=True)\n",
    "\n",
    "# 3. Insert a new column, with an ever-incrementing numeric value, to serve as the primary key.\n",
    "df_customers.insert(0, \"customer_key\", range(1, df_customers.shape[0]+1))\n",
    "\n",
    "# 4. Display the first 2 rows of the dataframe to validate your work\n",
    "df_customers.head(2)"
   ]
  },
  {
   "cell_type": "code",
   "execution_count": 160,
   "id": "63289b53-af20-4c46-8975-db78d316cbc3",
   "metadata": {},
   "outputs": [
    {
     "data": {
      "text/html": [
       "<div>\n",
       "<style scoped>\n",
       "    .dataframe tbody tr th:only-of-type {\n",
       "        vertical-align: middle;\n",
       "    }\n",
       "\n",
       "    .dataframe tbody tr th {\n",
       "        vertical-align: top;\n",
       "    }\n",
       "\n",
       "    .dataframe thead th {\n",
       "        text-align: right;\n",
       "    }\n",
       "</style>\n",
       "<table border=\"1\" class=\"dataframe\">\n",
       "  <thead>\n",
       "    <tr style=\"text-align: right;\">\n",
       "      <th></th>\n",
       "      <th>product_key</th>\n",
       "      <th>product_id</th>\n",
       "      <th>productName</th>\n",
       "      <th>productLine</th>\n",
       "      <th>buyPrice</th>\n",
       "      <th>MSRP</th>\n",
       "    </tr>\n",
       "  </thead>\n",
       "  <tbody>\n",
       "    <tr>\n",
       "      <th>0</th>\n",
       "      <td>1</td>\n",
       "      <td>S10_1678</td>\n",
       "      <td>1969 Harley Davidson Ultimate Chopper</td>\n",
       "      <td>Motorcycles</td>\n",
       "      <td>48.81</td>\n",
       "      <td>95.7</td>\n",
       "    </tr>\n",
       "    <tr>\n",
       "      <th>1</th>\n",
       "      <td>2</td>\n",
       "      <td>S10_1949</td>\n",
       "      <td>1952 Alpine Renault 1300</td>\n",
       "      <td>Classic Cars</td>\n",
       "      <td>98.58</td>\n",
       "      <td>214.3</td>\n",
       "    </tr>\n",
       "  </tbody>\n",
       "</table>\n",
       "</div>"
      ],
      "text/plain": [
       "   product_key product_id                            productName  \\\n",
       "0            1   S10_1678  1969 Harley Davidson Ultimate Chopper   \n",
       "1            2   S10_1949               1952 Alpine Renault 1300   \n",
       "\n",
       "    productLine  buyPrice   MSRP  \n",
       "0   Motorcycles     48.81   95.7  \n",
       "1  Classic Cars     98.58  214.3  "
      ]
     },
     "execution_count": 160,
     "metadata": {},
     "output_type": "execute_result"
    }
   ],
   "source": [
    "# PRODUCTS\n",
    "# 1. Create a List that enumerates the names of each column you wish to remove (drop) from the Pandas DataFrame\n",
    "drop_cols = ['productScale','productVendor','productDescription','quantityInStock']\n",
    "df_products.drop(drop_cols, axis=1, inplace=True)\n",
    "\n",
    "# 2. Rename the \"productCode\" column to \"product_id\" to reflect the entity as it will serve as the business key for lookup operations\n",
    "df_products.rename(columns={\"productCode\":\"product_id\"}, inplace=True)\n",
    "\n",
    "# 3. Insert a new column, with an ever-incrementing numeric value, to serve as the primary key.\n",
    "df_products.insert(0, \"product_key\", range(1, df_products.shape[0]+1))\n",
    "\n",
    "# 4. Display the first 2 rows of the dataframe to validate your work\n",
    "df_products.head(2)"
   ]
  },
  {
   "cell_type": "code",
   "execution_count": 162,
   "id": "2d4d0bc2-e48e-4816-95b9-463fff72ee47",
   "metadata": {},
   "outputs": [
    {
     "name": "stdout",
     "output_type": "stream",
     "text": [
      "  Tables_in_classicmodels_dw\n",
      "0              dim_customers\n",
      "1                   dim_date\n",
      "2               dim_payments\n",
      "3               dim_products\n",
      "4                     orders\n",
      "5                 sales_fact\n"
     ]
    }
   ],
   "source": [
    "sql_check_table = \"SHOW TABLES;\"\n",
    "df_tables = get_dataframe(user_id, pwd, host_name, dst_dbname, sql_check_table)\n",
    "print(df_tables)"
   ]
  },
  {
   "cell_type": "code",
   "execution_count": 164,
   "id": "018f7daa-2fa0-4412-a238-fa8f8756e612",
   "metadata": {},
   "outputs": [],
   "source": [
    "# load the Transformed DataFrames into the New Data Warehouse by Creating New Tables"
   ]
  },
  {
   "cell_type": "code",
   "execution_count": 166,
   "id": "c1055228-d48d-430e-acd9-11502d645ad1",
   "metadata": {},
   "outputs": [],
   "source": [
    "db_operation = \"update\"\n",
    "\n",
    "tables = [('dim_customers', df_customers, 'customer_key'),\n",
    "          ('dim_products', df_products, 'product_key')]"
   ]
  },
  {
   "cell_type": "code",
   "execution_count": 168,
   "id": "056766c4-8648-4b2c-93e0-526fa07ccc97",
   "metadata": {},
   "outputs": [
    {
     "name": "stdout",
     "output_type": "stream",
     "text": [
      "Inserting into dim_customers with primary key customer_key\n",
      "Inserting into dim_products with primary key product_key\n"
     ]
    }
   ],
   "source": [
    "for table_name, dataframe, primary_key in tables:\n",
    "    set_dataframe(dataframe, table_name, primary_key, db_operation, **mysql_args)\n"
   ]
  },
  {
   "cell_type": "code",
   "execution_count": 170,
   "id": "97e41c46-4983-47e0-aaa5-cea080b53b9f",
   "metadata": {},
   "outputs": [],
   "source": [
    "# creating and populating the fact table called sales_fact"
   ]
  },
  {
   "cell_type": "code",
   "execution_count": 172,
   "id": "46fca70e-3f4e-4d8c-b981-ce1946d0dd5a",
   "metadata": {},
   "outputs": [
    {
     "name": "stdout",
     "output_type": "stream",
     "text": [
      "  Tables_in_classicmodels_dw\n",
      "0              dim_customers\n",
      "1                   dim_date\n",
      "2               dim_payments\n",
      "3               dim_products\n",
      "4                     orders\n",
      "5                 sales_fact\n"
     ]
    }
   ],
   "source": [
    "sql_check_table = \"SHOW TABLES;\"\n",
    "df_tables = get_dataframe(user_id, pwd, host_name, dst_dbname, sql_check_table)\n",
    "print(df_tables)"
   ]
  },
  {
   "cell_type": "code",
   "execution_count": 174,
   "id": "afb14f0d-a021-4ddb-a9da-ee31b176a3d7",
   "metadata": {},
   "outputs": [
    {
     "name": "stdout",
     "output_type": "stream",
     "text": [
      "(17, 4)\n",
      "   customer_key  payment_key  total_price  paymentDate_key\n",
      "0           103            1      6066.78         20041019\n",
      "1           103            2     14571.44         20030605\n"
     ]
    }
   ],
   "source": [
    "sql_sales_fact = \"\"\"\n",
    "SELECT \n",
    "    c.customer_key, \n",
    "    py.payment_key, \n",
    "    py.amount AS total_price,\n",
    "    py.paymentDate_key\n",
    "FROM dim_payments py\n",
    "JOIN dim_customers c ON py.customerNumber = c.customer_key\n",
    "\n",
    "\n",
    "\"\"\"\n",
    "\n",
    "# sql_sales_fact = \"\"\"\n",
    "# SELECT \n",
    "#     c.customer_key, \n",
    "#     py.payment_key, \n",
    "#     py.amount AS total_price,\n",
    "#     py.paymentDate_key,\n",
    "#     sf.product_key,\n",
    "#     p.productName  -- Optionally include the product name from dim_products\n",
    "# FROM dim_payments py\n",
    "# JOIN dim_customers c ON py.customerNumber = c.customer_key\n",
    "# JOIN sales_fact sf ON sf.payment_key = py.payment_key\n",
    "# LEFT JOIN dim_products p ON sf.product_key = p.product_key;\n",
    "# \"\"\"\n",
    "\n",
    "df_sales_fact = get_dataframe(user_id, pwd, host_name, dst_dbname, sql_sales_fact)\n",
    "print(df_sales_fact.shape)  # Should be a non-zero shape if data exists\n",
    "print(df_sales_fact.head(2))  # Check the first 2 rows to ensure data is fetched\n"
   ]
  },
  {
   "cell_type": "code",
   "execution_count": 176,
   "id": "e2e07042-65ea-40c6-9606-cd0d2eb128c2",
   "metadata": {},
   "outputs": [
    {
     "data": {
      "text/html": [
       "<div>\n",
       "<style scoped>\n",
       "    .dataframe tbody tr th:only-of-type {\n",
       "        vertical-align: middle;\n",
       "    }\n",
       "\n",
       "    .dataframe tbody tr th {\n",
       "        vertical-align: top;\n",
       "    }\n",
       "\n",
       "    .dataframe thead th {\n",
       "        text-align: right;\n",
       "    }\n",
       "</style>\n",
       "<table border=\"1\" class=\"dataframe\">\n",
       "  <thead>\n",
       "    <tr style=\"text-align: right;\">\n",
       "      <th></th>\n",
       "      <th>sales_fact_key</th>\n",
       "      <th>customer_key</th>\n",
       "      <th>payment_key</th>\n",
       "      <th>total_price</th>\n",
       "      <th>paymentDate_key</th>\n",
       "    </tr>\n",
       "  </thead>\n",
       "  <tbody>\n",
       "    <tr>\n",
       "      <th>0</th>\n",
       "      <td>1</td>\n",
       "      <td>103</td>\n",
       "      <td>1</td>\n",
       "      <td>6066.78</td>\n",
       "      <td>20041019</td>\n",
       "    </tr>\n",
       "    <tr>\n",
       "      <th>1</th>\n",
       "      <td>2</td>\n",
       "      <td>103</td>\n",
       "      <td>2</td>\n",
       "      <td>14571.44</td>\n",
       "      <td>20030605</td>\n",
       "    </tr>\n",
       "  </tbody>\n",
       "</table>\n",
       "</div>"
      ],
      "text/plain": [
       "   sales_fact_key  customer_key  payment_key  total_price  paymentDate_key\n",
       "0               1           103            1      6066.78         20041019\n",
       "1               2           103            2     14571.44         20030605"
      ]
     },
     "execution_count": 176,
     "metadata": {},
     "output_type": "execute_result"
    }
   ],
   "source": [
    "# 3. Insert a new column, with an ever-incrementing numeric value, to serve as the primary key.\n",
    "df_sales_fact.insert(0, \"sales_fact_key\", range(1, df_sales_fact.shape[0] + 1))\n",
    "# df_sales_fact.drop(columns=[\"sales_fact_key\"], errors=\"ignore\", inplace=True)\n",
    "\n",
    "# 4. Display the first 2 rows of the dataframe to validate your work\n",
    "df_sales_fact.head(2)"
   ]
  },
  {
   "cell_type": "code",
   "execution_count": 178,
   "id": "aa6fa645-5882-4d8b-824e-8cf9f26c3ae1",
   "metadata": {},
   "outputs": [
    {
     "name": "stdout",
     "output_type": "stream",
     "text": [
      "Data successfully inserted into the sales_fact table.\n"
     ]
    },
    {
     "data": {
      "text/html": [
       "<div>\n",
       "<style scoped>\n",
       "    .dataframe tbody tr th:only-of-type {\n",
       "        vertical-align: middle;\n",
       "    }\n",
       "\n",
       "    .dataframe tbody tr th {\n",
       "        vertical-align: top;\n",
       "    }\n",
       "\n",
       "    .dataframe thead th {\n",
       "        text-align: right;\n",
       "    }\n",
       "</style>\n",
       "<table border=\"1\" class=\"dataframe\">\n",
       "  <thead>\n",
       "    <tr style=\"text-align: right;\">\n",
       "      <th></th>\n",
       "      <th>sales_fact_key</th>\n",
       "      <th>customer_key</th>\n",
       "      <th>payment_key</th>\n",
       "      <th>total_price</th>\n",
       "      <th>paymentDate_key</th>\n",
       "    </tr>\n",
       "  </thead>\n",
       "  <tbody>\n",
       "    <tr>\n",
       "      <th>0</th>\n",
       "      <td>1</td>\n",
       "      <td>103</td>\n",
       "      <td>1</td>\n",
       "      <td>6066.78</td>\n",
       "      <td>20041019</td>\n",
       "    </tr>\n",
       "    <tr>\n",
       "      <th>1</th>\n",
       "      <td>2</td>\n",
       "      <td>103</td>\n",
       "      <td>2</td>\n",
       "      <td>14571.44</td>\n",
       "      <td>20030605</td>\n",
       "    </tr>\n",
       "    <tr>\n",
       "      <th>2</th>\n",
       "      <td>3</td>\n",
       "      <td>103</td>\n",
       "      <td>3</td>\n",
       "      <td>1676.14</td>\n",
       "      <td>20041218</td>\n",
       "    </tr>\n",
       "    <tr>\n",
       "      <th>3</th>\n",
       "      <td>4</td>\n",
       "      <td>112</td>\n",
       "      <td>4</td>\n",
       "      <td>14191.12</td>\n",
       "      <td>20041217</td>\n",
       "    </tr>\n",
       "    <tr>\n",
       "      <th>4</th>\n",
       "      <td>5</td>\n",
       "      <td>112</td>\n",
       "      <td>5</td>\n",
       "      <td>32641.98</td>\n",
       "      <td>20030606</td>\n",
       "    </tr>\n",
       "  </tbody>\n",
       "</table>\n",
       "</div>"
      ],
      "text/plain": [
       "   sales_fact_key  customer_key  payment_key  total_price  paymentDate_key\n",
       "0               1           103            1      6066.78         20041019\n",
       "1               2           103            2     14571.44         20030605\n",
       "2               3           103            3      1676.14         20041218\n",
       "3               4           112            4     14191.12         20041217\n",
       "4               5           112            5     32641.98         20030606"
      ]
     },
     "execution_count": 178,
     "metadata": {},
     "output_type": "execute_result"
    }
   ],
   "source": [
    "# Insert data into the sales_fact table\n",
    "\n",
    "df_sales_fact.to_sql('sales_fact', con=sqlEngine, if_exists='replace', index=False)\n",
    "\n",
    "\n",
    "print(\"Data successfully inserted into the sales_fact table.\")\n",
    "df_sales_fact.head(5)"
   ]
  },
  {
   "cell_type": "code",
   "execution_count": 180,
   "id": "26695a33-ca80-4b8e-abd7-165a5fbeb4d1",
   "metadata": {},
   "outputs": [],
   "source": [
    "# demonstrate that the new data warehouse exists and contains the correct data"
   ]
  },
  {
   "cell_type": "code",
   "execution_count": null,
   "id": "3a401fc0-eb49-4dbe-be3a-53a1b7a3ed4f",
   "metadata": {},
   "outputs": [],
   "source": []
  },
  {
   "cell_type": "code",
   "execution_count": 183,
   "id": "70d6f1eb-ad46-427b-bbb5-e89e11f97215",
   "metadata": {},
   "outputs": [
    {
     "name": "stdout",
     "output_type": "stream",
     "text": [
      "   customer_key              customerName  total_sales  total_revenue  \\\n",
      "0           114       Mit Vergnügen & Co.            4      180585.07   \n",
      "1           119  Signal Collectibles Ltd.            3      116949.68   \n",
      "\n",
      "   avg_payment_amount  \n",
      "0        45146.267500  \n",
      "1        38983.226667  \n"
     ]
    }
   ],
   "source": [
    "#This query retrieves total sales data for each customer, including total transactions, revenue, and average payment amount.\n",
    "\n",
    "sql_query = \"\"\"\n",
    "SELECT \n",
    "    c.customer_key, \n",
    "    c.customerName, \n",
    "    COUNT(sf.sales_fact_key) AS total_sales, \n",
    "    SUM(py.amount) AS total_revenue, \n",
    "    AVG(py.amount) AS avg_payment_amount\n",
    "FROM sales_fact sf\n",
    "JOIN dim_payments py ON sf.payment_key = py.payment_key\n",
    "JOIN dim_customers c ON py.customerNumber = c.customer_key\n",
    "GROUP BY c.customer_key, c.customerName\n",
    "ORDER BY total_revenue DESC;\n",
    "\"\"\"\n",
    "\n",
    "# Execute the SQL query and load the results into a Pandas DataFrame\n",
    "df_total_sales_by_customer = pd.read_sql(sql_query, sqlEngine)\n",
    "\n",
    "# Display the first 2 rows to check the output\n",
    "print(df_total_sales_by_customer.head(2))"
   ]
  },
  {
   "cell_type": "code",
   "execution_count": null,
   "id": "8978c3f2-b5e1-43a9-9977-a9076dbfe3f1",
   "metadata": {},
   "outputs": [],
   "source": []
  },
  {
   "cell_type": "code",
   "execution_count": null,
   "id": "c4fcfb7c-4377-474d-b82b-127d37cbbdec",
   "metadata": {},
   "outputs": [],
   "source": []
  }
 ],
 "metadata": {
  "kernelspec": {
   "display_name": "Python [conda env:base] *",
   "language": "python",
   "name": "conda-base-py"
  },
  "language_info": {
   "codemirror_mode": {
    "name": "ipython",
    "version": 3
   },
   "file_extension": ".py",
   "mimetype": "text/x-python",
   "name": "python",
   "nbconvert_exporter": "python",
   "pygments_lexer": "ipython3",
   "version": "3.12.7"
  }
 },
 "nbformat": 4,
 "nbformat_minor": 5
}
