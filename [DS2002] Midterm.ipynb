{
 "cells": [
  {
   "cell_type": "code",
   "execution_count": 47,
   "id": "7b4c86d0-2b0d-4028-8c13-bc787cc943af",
   "metadata": {},
   "outputs": [],
   "source": [
    "# using python to perform ETL"
   ]
  },
  {
   "cell_type": "code",
   "execution_count": 49,
   "id": "bc9f82cb-cb55-42f4-930d-0308a970cc97",
   "metadata": {},
   "outputs": [
    {
     "name": "stdout",
     "output_type": "stream",
     "text": [
      "Requirement already satisfied: sqlalchemy in /opt/anaconda3/lib/python3.12/site-packages (2.0.34)\n",
      "Requirement already satisfied: typing-extensions>=4.6.0 in /opt/anaconda3/lib/python3.12/site-packages (from sqlalchemy) (4.11.0)\n",
      "Requirement already satisfied: greenlet!=0.4.17 in /opt/anaconda3/lib/python3.12/site-packages (from sqlalchemy) (3.0.1)\n"
     ]
    }
   ],
   "source": [
    "!pip install sqlalchemy"
   ]
  },
  {
   "cell_type": "code",
   "execution_count": 50,
   "id": "4f6848a9-ae77-4345-a6b4-d0b4c2ddcd4e",
   "metadata": {},
   "outputs": [],
   "source": [
    "import os\n",
    "import numpy\n",
    "import pandas as pd\n",
    "from sqlalchemy import create_engine, text"
   ]
  },
  {
   "cell_type": "code",
   "execution_count": 51,
   "id": "4101c5ca-1238-4143-8144-cce5ba95ac03",
   "metadata": {},
   "outputs": [],
   "source": [
    "# Declare & Assign Connection Variables for the MySQL Server & Databases with which You'll be Working\n",
    "host_name = \"localhost\"\n",
    "port = \"3306\"\n",
    "user_id = \"root\"\n",
    "pwd = \"Strawberrylime\"\n",
    "\n",
    "src_dbname = \"classicmodels\"\n",
    "dst_dbname = \"classicmodels_dw\""
   ]
  },
  {
   "cell_type": "code",
   "execution_count": 52,
   "id": "b1aef347-2e45-49e7-8452-154b9d47f3c8",
   "metadata": {},
   "outputs": [],
   "source": [
    "# Define Functions for Getting Data From and Setting Data Into Databases\n",
    "def get_dataframe(user_id, pwd, host_name, db_name, sql_query):\n",
    "    conn_str = f\"mysql+pymysql://{user_id}:{pwd}@{host_name}/{db_name}\"\n",
    "    sqlEngine = create_engine(conn_str, pool_recycle=3600)\n",
    "    connection = sqlEngine.connect()\n",
    "    dframe = pd.read_sql(sql_query, connection);\n",
    "    connection.close()\n",
    "    \n",
    "    return dframe\n",
    "\n",
    "\n",
    "def set_dataframe(user_id, pwd, host_name, db_name, df, table_name, pk_column, db_operation):\n",
    "    conn_str = f\"mysql+pymysql://{user_id}:{pwd}@{host_name}/{db_name}\"\n",
    "    sqlEngine = create_engine(conn_str, pool_recycle=3600)\n",
    "    connection = sqlEngine.connect()\n",
    "    \n",
    "    if db_operation == \"insert\":\n",
    "        df.to_sql(table_name, con=connection, index=False, if_exists='replace')\n",
    "        connection.execute(text(f\"ALTER TABLE {table_name} ADD PRIMARY KEY ({pk_column});\"))\n",
    "            \n",
    "    elif db_operation == \"update\":\n",
    "        df.to_sql(table_name, con=connection, index=False, if_exists='append')\n",
    "    \n",
    "    connection.close()"
   ]
  },
  {
   "cell_type": "code",
   "execution_count": 53,
   "id": "7edc8b96-4f39-4907-aebb-d327e0a5dfe9",
   "metadata": {},
   "outputs": [],
   "source": [
    "# Create the New Data Warehouse database, and to Use it, Switch the Connection Context \n",
    "conn_str = f\"mysql+pymysql://{user_id}:{pwd}@{host_name}\"\n",
    "sqlEngine = create_engine(conn_str, pool_recycle=3600)\n",
    "connection = sqlEngine.connect()\n",
    "\n",
    "connection.execute(text(f\"DROP DATABASE IF EXISTS `{dst_dbname}`;\"))\n",
    "connection.execute(text(f\"CREATE DATABASE `{dst_dbname}`;\"))\n",
    "connection.execute(text(f\"USE {dst_dbname};\"))\n",
    "\n",
    "connection.close()"
   ]
  },
  {
   "cell_type": "code",
   "execution_count": 59,
   "id": "8991fea4-970c-431f-afac-a6beb2a97821",
   "metadata": {},
   "outputs": [],
   "source": [
    "# fetching data for dimensions table"
   ]
  },
  {
   "cell_type": "code",
   "execution_count": 61,
   "id": "cd388fba-55da-4cdb-8165-356e9a198a39",
   "metadata": {
    "scrolled": true
   },
   "outputs": [
    {
     "data": {
      "text/html": [
       "<div>\n",
       "<style scoped>\n",
       "    .dataframe tbody tr th:only-of-type {\n",
       "        vertical-align: middle;\n",
       "    }\n",
       "\n",
       "    .dataframe tbody tr th {\n",
       "        vertical-align: top;\n",
       "    }\n",
       "\n",
       "    .dataframe thead th {\n",
       "        text-align: right;\n",
       "    }\n",
       "</style>\n",
       "<table border=\"1\" class=\"dataframe\">\n",
       "  <thead>\n",
       "    <tr style=\"text-align: right;\">\n",
       "      <th></th>\n",
       "      <th>customerNumber</th>\n",
       "      <th>customerName</th>\n",
       "      <th>contactLastName</th>\n",
       "      <th>contactFirstName</th>\n",
       "      <th>phone</th>\n",
       "      <th>addressLine1</th>\n",
       "      <th>addressLine2</th>\n",
       "      <th>city</th>\n",
       "      <th>state</th>\n",
       "      <th>postalCode</th>\n",
       "      <th>country</th>\n",
       "      <th>salesRepEmployeeNumber</th>\n",
       "      <th>creditLimit</th>\n",
       "    </tr>\n",
       "  </thead>\n",
       "  <tbody>\n",
       "    <tr>\n",
       "      <th>0</th>\n",
       "      <td>103</td>\n",
       "      <td>Atelier graphique</td>\n",
       "      <td>Schmitt</td>\n",
       "      <td>Carine</td>\n",
       "      <td>40.32.2555</td>\n",
       "      <td>54, rue Royale</td>\n",
       "      <td>None</td>\n",
       "      <td>Nantes</td>\n",
       "      <td>None</td>\n",
       "      <td>44000</td>\n",
       "      <td>France</td>\n",
       "      <td>1370.0</td>\n",
       "      <td>21000.0</td>\n",
       "    </tr>\n",
       "    <tr>\n",
       "      <th>1</th>\n",
       "      <td>112</td>\n",
       "      <td>Signal Gift Stores</td>\n",
       "      <td>King</td>\n",
       "      <td>Jean</td>\n",
       "      <td>7025551838</td>\n",
       "      <td>8489 Strong St.</td>\n",
       "      <td>None</td>\n",
       "      <td>Las Vegas</td>\n",
       "      <td>NV</td>\n",
       "      <td>83030</td>\n",
       "      <td>USA</td>\n",
       "      <td>1166.0</td>\n",
       "      <td>71800.0</td>\n",
       "    </tr>\n",
       "  </tbody>\n",
       "</table>\n",
       "</div>"
      ],
      "text/plain": [
       "   customerNumber        customerName contactLastName contactFirstName  \\\n",
       "0             103   Atelier graphique         Schmitt          Carine    \n",
       "1             112  Signal Gift Stores            King             Jean   \n",
       "\n",
       "        phone     addressLine1 addressLine2       city state postalCode  \\\n",
       "0  40.32.2555   54, rue Royale         None     Nantes  None      44000   \n",
       "1  7025551838  8489 Strong St.         None  Las Vegas    NV      83030   \n",
       "\n",
       "  country  salesRepEmployeeNumber  creditLimit  \n",
       "0  France                  1370.0      21000.0  \n",
       "1     USA                  1166.0      71800.0  "
      ]
     },
     "execution_count": 61,
     "metadata": {},
     "output_type": "execute_result"
    }
   ],
   "source": [
    "# fetching data from customers\n",
    "sql_customers = \"SELECT * FROM classicmodels.customers;\"\n",
    "df_customers = get_dataframe(user_id, pwd, host_name, src_dbname, sql_customers)\n",
    "df_customers.head(2)"
   ]
  },
  {
   "cell_type": "code",
   "execution_count": 63,
   "id": "ef5e7b0a-9b14-4d91-b800-94f36af502c7",
   "metadata": {},
   "outputs": [
    {
     "data": {
      "text/html": [
       "<div>\n",
       "<style scoped>\n",
       "    .dataframe tbody tr th:only-of-type {\n",
       "        vertical-align: middle;\n",
       "    }\n",
       "\n",
       "    .dataframe tbody tr th {\n",
       "        vertical-align: top;\n",
       "    }\n",
       "\n",
       "    .dataframe thead th {\n",
       "        text-align: right;\n",
       "    }\n",
       "</style>\n",
       "<table border=\"1\" class=\"dataframe\">\n",
       "  <thead>\n",
       "    <tr style=\"text-align: right;\">\n",
       "      <th></th>\n",
       "      <th>productCode</th>\n",
       "      <th>productName</th>\n",
       "      <th>productLine</th>\n",
       "      <th>productScale</th>\n",
       "      <th>productVendor</th>\n",
       "      <th>productDescription</th>\n",
       "      <th>quantityInStock</th>\n",
       "      <th>buyPrice</th>\n",
       "      <th>MSRP</th>\n",
       "    </tr>\n",
       "  </thead>\n",
       "  <tbody>\n",
       "    <tr>\n",
       "      <th>0</th>\n",
       "      <td>S10_1678</td>\n",
       "      <td>1969 Harley Davidson Ultimate Chopper</td>\n",
       "      <td>Motorcycles</td>\n",
       "      <td>1:10</td>\n",
       "      <td>Min Lin Diecast</td>\n",
       "      <td>This replica features working kickstand, front...</td>\n",
       "      <td>7933</td>\n",
       "      <td>48.81</td>\n",
       "      <td>95.7</td>\n",
       "    </tr>\n",
       "    <tr>\n",
       "      <th>1</th>\n",
       "      <td>S10_1949</td>\n",
       "      <td>1952 Alpine Renault 1300</td>\n",
       "      <td>Classic Cars</td>\n",
       "      <td>1:10</td>\n",
       "      <td>Classic Metal Creations</td>\n",
       "      <td>Turnable front wheels; steering function; deta...</td>\n",
       "      <td>7305</td>\n",
       "      <td>98.58</td>\n",
       "      <td>214.3</td>\n",
       "    </tr>\n",
       "  </tbody>\n",
       "</table>\n",
       "</div>"
      ],
      "text/plain": [
       "  productCode                            productName   productLine  \\\n",
       "0    S10_1678  1969 Harley Davidson Ultimate Chopper   Motorcycles   \n",
       "1    S10_1949               1952 Alpine Renault 1300  Classic Cars   \n",
       "\n",
       "  productScale            productVendor  \\\n",
       "0         1:10          Min Lin Diecast   \n",
       "1         1:10  Classic Metal Creations   \n",
       "\n",
       "                                  productDescription  quantityInStock  \\\n",
       "0  This replica features working kickstand, front...             7933   \n",
       "1  Turnable front wheels; steering function; deta...             7305   \n",
       "\n",
       "   buyPrice   MSRP  \n",
       "0     48.81   95.7  \n",
       "1     98.58  214.3  "
      ]
     },
     "execution_count": 63,
     "metadata": {},
     "output_type": "execute_result"
    }
   ],
   "source": [
    "# fetching data from products\n",
    "sql_products = \"SELECT * FROM classicmodels.products;\"\n",
    "df_products = get_dataframe(user_id, pwd, host_name, src_dbname, sql_products)\n",
    "df_products.head(2)"
   ]
  },
  {
   "cell_type": "code",
   "execution_count": 65,
   "id": "a9df1d00-4808-466a-a35a-cf8b9b06ec76",
   "metadata": {},
   "outputs": [],
   "source": [
    "# At this point, run the [DS2002 Midterm dim_date SQL file"
   ]
  },
  {
   "cell_type": "code",
   "execution_count": 67,
   "id": "34a641cc-9072-43c5-af88-262f0c189d8a",
   "metadata": {},
   "outputs": [],
   "source": [
    "# Perform any necessary transformations"
   ]
  },
  {
   "cell_type": "code",
   "execution_count": 69,
   "id": "c04b7622-7417-4833-b6df-f13eb00d60c5",
   "metadata": {
    "scrolled": true
   },
   "outputs": [
    {
     "data": {
      "text/html": [
       "<div>\n",
       "<style scoped>\n",
       "    .dataframe tbody tr th:only-of-type {\n",
       "        vertical-align: middle;\n",
       "    }\n",
       "\n",
       "    .dataframe tbody tr th {\n",
       "        vertical-align: top;\n",
       "    }\n",
       "\n",
       "    .dataframe thead th {\n",
       "        text-align: right;\n",
       "    }\n",
       "</style>\n",
       "<table border=\"1\" class=\"dataframe\">\n",
       "  <thead>\n",
       "    <tr style=\"text-align: right;\">\n",
       "      <th></th>\n",
       "      <th>customer_key</th>\n",
       "      <th>customer_id</th>\n",
       "      <th>customerName</th>\n",
       "      <th>addressLine1</th>\n",
       "      <th>city</th>\n",
       "      <th>state</th>\n",
       "      <th>postalCode</th>\n",
       "      <th>country</th>\n",
       "    </tr>\n",
       "  </thead>\n",
       "  <tbody>\n",
       "    <tr>\n",
       "      <th>0</th>\n",
       "      <td>1</td>\n",
       "      <td>103</td>\n",
       "      <td>Atelier graphique</td>\n",
       "      <td>54, rue Royale</td>\n",
       "      <td>Nantes</td>\n",
       "      <td>None</td>\n",
       "      <td>44000</td>\n",
       "      <td>France</td>\n",
       "    </tr>\n",
       "    <tr>\n",
       "      <th>1</th>\n",
       "      <td>2</td>\n",
       "      <td>112</td>\n",
       "      <td>Signal Gift Stores</td>\n",
       "      <td>8489 Strong St.</td>\n",
       "      <td>Las Vegas</td>\n",
       "      <td>NV</td>\n",
       "      <td>83030</td>\n",
       "      <td>USA</td>\n",
       "    </tr>\n",
       "  </tbody>\n",
       "</table>\n",
       "</div>"
      ],
      "text/plain": [
       "   customer_key  customer_id        customerName     addressLine1       city  \\\n",
       "0             1          103   Atelier graphique   54, rue Royale     Nantes   \n",
       "1             2          112  Signal Gift Stores  8489 Strong St.  Las Vegas   \n",
       "\n",
       "  state postalCode country  \n",
       "0  None      44000  France  \n",
       "1    NV      83030     USA  "
      ]
     },
     "execution_count": 69,
     "metadata": {},
     "output_type": "execute_result"
    }
   ],
   "source": [
    "# CUSTOMERS\n",
    "# 1. Create a List that enumerates the names of each column you wish to remove (drop) from the Pandas DataFrame\n",
    "drop_cols = ['contactLastName','contactFirstName','phone','addressLine2','salesRepEmployeeNumber','creditLimit']\n",
    "df_customers.drop(drop_cols, axis=1, inplace=True)\n",
    "\n",
    "# 2. Rename the \"customerNumber\" column to \"customer_id\" to reflect the entity as it will serve as the business key for lookup operations\n",
    "df_customers.rename(columns={\"customerNumber\":\"customer_id\"}, inplace=True)\n",
    "\n",
    "# 3. Insert a new column, with an ever-incrementing numeric value, to serve as the primary key.\n",
    "df_customers.insert(0, \"customer_key\", range(1, df_customers.shape[0]+1))\n",
    "\n",
    "# 4. Display the first 2 rows of the dataframe to validate your work\n",
    "df_customers.head(2)"
   ]
  },
  {
   "cell_type": "code",
   "execution_count": 71,
   "id": "63289b53-af20-4c46-8975-db78d316cbc3",
   "metadata": {},
   "outputs": [
    {
     "data": {
      "text/html": [
       "<div>\n",
       "<style scoped>\n",
       "    .dataframe tbody tr th:only-of-type {\n",
       "        vertical-align: middle;\n",
       "    }\n",
       "\n",
       "    .dataframe tbody tr th {\n",
       "        vertical-align: top;\n",
       "    }\n",
       "\n",
       "    .dataframe thead th {\n",
       "        text-align: right;\n",
       "    }\n",
       "</style>\n",
       "<table border=\"1\" class=\"dataframe\">\n",
       "  <thead>\n",
       "    <tr style=\"text-align: right;\">\n",
       "      <th></th>\n",
       "      <th>product_key</th>\n",
       "      <th>product_id</th>\n",
       "      <th>productName</th>\n",
       "      <th>productLine</th>\n",
       "      <th>buyPrice</th>\n",
       "      <th>MSRP</th>\n",
       "    </tr>\n",
       "  </thead>\n",
       "  <tbody>\n",
       "    <tr>\n",
       "      <th>0</th>\n",
       "      <td>1</td>\n",
       "      <td>S10_1678</td>\n",
       "      <td>1969 Harley Davidson Ultimate Chopper</td>\n",
       "      <td>Motorcycles</td>\n",
       "      <td>48.81</td>\n",
       "      <td>95.7</td>\n",
       "    </tr>\n",
       "    <tr>\n",
       "      <th>1</th>\n",
       "      <td>2</td>\n",
       "      <td>S10_1949</td>\n",
       "      <td>1952 Alpine Renault 1300</td>\n",
       "      <td>Classic Cars</td>\n",
       "      <td>98.58</td>\n",
       "      <td>214.3</td>\n",
       "    </tr>\n",
       "  </tbody>\n",
       "</table>\n",
       "</div>"
      ],
      "text/plain": [
       "   product_key product_id                            productName  \\\n",
       "0            1   S10_1678  1969 Harley Davidson Ultimate Chopper   \n",
       "1            2   S10_1949               1952 Alpine Renault 1300   \n",
       "\n",
       "    productLine  buyPrice   MSRP  \n",
       "0   Motorcycles     48.81   95.7  \n",
       "1  Classic Cars     98.58  214.3  "
      ]
     },
     "execution_count": 71,
     "metadata": {},
     "output_type": "execute_result"
    }
   ],
   "source": [
    "# PRODUCTS\n",
    "# 1. Create a List that enumerates the names of each column you wish to remove (drop) from the Pandas DataFrame\n",
    "drop_cols = ['productScale','productVendor','productDescription','quantityInStock']\n",
    "df_products.drop(drop_cols, axis=1, inplace=True)\n",
    "\n",
    "# 2. Rename the \"productCode\" column to \"product_id\" to reflect the entity as it will serve as the business key for lookup operations\n",
    "df_products.rename(columns={\"productCode\":\"product_id\"}, inplace=True)\n",
    "\n",
    "# 3. Insert a new column, with an ever-incrementing numeric value, to serve as the primary key.\n",
    "df_products.insert(0, \"product_key\", range(1, df_products.shape[0]+1))\n",
    "\n",
    "# 4. Display the first 2 rows of the dataframe to validate your work\n",
    "df_products.head(2)"
   ]
  },
  {
   "cell_type": "code",
   "execution_count": 73,
   "id": "018f7daa-2fa0-4412-a238-fa8f8756e612",
   "metadata": {},
   "outputs": [],
   "source": [
    "# load the Transformed DataFrames into the New Data Warehouse by Creating New Tables"
   ]
  },
  {
   "cell_type": "code",
   "execution_count": 75,
   "id": "c1055228-d48d-430e-acd9-11502d645ad1",
   "metadata": {},
   "outputs": [],
   "source": [
    "db_operation = \"insert\"\n",
    "\n",
    "tables = [('dim_customers', df_customers, 'customer_key'),\n",
    "          ('dim_products', df_products, 'product_key')]"
   ]
  },
  {
   "cell_type": "code",
   "execution_count": 77,
   "id": "056766c4-8648-4b2c-93e0-526fa07ccc97",
   "metadata": {},
   "outputs": [],
   "source": [
    "for table_name, dataframe, primary_key in tables:\n",
    "    set_dataframe(user_id, pwd, host_name, dst_dbname, dataframe, table_name, primary_key, db_operation)"
   ]
  },
  {
   "cell_type": "code",
   "execution_count": 79,
   "id": "97e41c46-4983-47e0-aaa5-cea080b53b9f",
   "metadata": {},
   "outputs": [],
   "source": [
    "# creating and populating the fact table called sales_fact"
   ]
  },
  {
   "cell_type": "code",
   "execution_count": 95,
   "id": "afb14f0d-a021-4ddb-a9da-ee31b176a3d7",
   "metadata": {},
   "outputs": [
    {
     "data": {
      "text/html": [
       "<div>\n",
       "<style scoped>\n",
       "    .dataframe tbody tr th:only-of-type {\n",
       "        vertical-align: middle;\n",
       "    }\n",
       "\n",
       "    .dataframe tbody tr th {\n",
       "        vertical-align: top;\n",
       "    }\n",
       "\n",
       "    .dataframe thead th {\n",
       "        text-align: right;\n",
       "    }\n",
       "</style>\n",
       "<table border=\"1\" class=\"dataframe\">\n",
       "  <thead>\n",
       "    <tr style=\"text-align: right;\">\n",
       "      <th></th>\n",
       "      <th>order_id</th>\n",
       "      <th>customer_id</th>\n",
       "      <th>order_date_key</th>\n",
       "      <th>shipped_date</th>\n",
       "      <th>payment_date_key</th>\n",
       "      <th>payment_amount</th>\n",
       "      <th>payment_status</th>\n",
       "    </tr>\n",
       "  </thead>\n",
       "  <tbody>\n",
       "    <tr>\n",
       "      <th>0</th>\n",
       "      <td>10100</td>\n",
       "      <td>363</td>\n",
       "      <td>2003-01-06</td>\n",
       "      <td>2003-01-10</td>\n",
       "      <td>2004-11-17</td>\n",
       "      <td>50799.69</td>\n",
       "      <td>Shipped</td>\n",
       "    </tr>\n",
       "    <tr>\n",
       "      <th>1</th>\n",
       "      <td>10100</td>\n",
       "      <td>363</td>\n",
       "      <td>2003-01-06</td>\n",
       "      <td>2003-01-10</td>\n",
       "      <td>2003-01-16</td>\n",
       "      <td>10223.83</td>\n",
       "      <td>Shipped</td>\n",
       "    </tr>\n",
       "  </tbody>\n",
       "</table>\n",
       "</div>"
      ],
      "text/plain": [
       "   order_id  customer_id order_date_key shipped_date payment_date_key  \\\n",
       "0     10100          363     2003-01-06   2003-01-10       2004-11-17   \n",
       "1     10100          363     2003-01-06   2003-01-10       2003-01-16   \n",
       "\n",
       "   payment_amount payment_status  \n",
       "0        50799.69        Shipped  \n",
       "1        10223.83        Shipped  "
      ]
     },
     "execution_count": 95,
     "metadata": {},
     "output_type": "execute_result"
    }
   ],
   "source": [
    "sql_sales_fact = \"\"\"\n",
    "SELECT \n",
    "    o.orderNumber AS order_id,                           \n",
    "    o.customerNumber AS customer_id,                    \n",
    "    o.orderDate AS order_date_key,                       \n",
    "    o.shippedDate AS shipped_date,                       \n",
    "    p.paymentDate AS payment_date_key,                    \n",
    "    p.amount AS payment_amount,                          \n",
    "    o.status AS payment_status                            \n",
    "FROM classicmodels.orders AS o\n",
    "LEFT JOIN classicmodels.payments AS p\n",
    "ON o.customerNumber = p.customerNumber;              \n",
    "\"\"\"\n",
    "\n",
    "df_sales_fact = get_dataframe(user_id, pwd, host_name, src_dbname, sql_sales_fact)\n",
    "df_sales_fact.head(2)"
   ]
  },
  {
   "cell_type": "code",
   "execution_count": 103,
   "id": "6d3b0119-9836-4b56-a6ee-d8b09fa1d18e",
   "metadata": {},
   "outputs": [
    {
     "data": {
      "text/html": [
       "<div>\n",
       "<style scoped>\n",
       "    .dataframe tbody tr th:only-of-type {\n",
       "        vertical-align: middle;\n",
       "    }\n",
       "\n",
       "    .dataframe tbody tr th {\n",
       "        vertical-align: top;\n",
       "    }\n",
       "\n",
       "    .dataframe thead th {\n",
       "        text-align: right;\n",
       "    }\n",
       "</style>\n",
       "<table border=\"1\" class=\"dataframe\">\n",
       "  <thead>\n",
       "    <tr style=\"text-align: right;\">\n",
       "      <th></th>\n",
       "      <th>sales_fact_key</th>\n",
       "      <th>order_id</th>\n",
       "      <th>customer_id</th>\n",
       "      <th>order_date_key</th>\n",
       "      <th>shipped_date</th>\n",
       "      <th>payment_date_key</th>\n",
       "      <th>payment_amount</th>\n",
       "      <th>payment_status</th>\n",
       "    </tr>\n",
       "  </thead>\n",
       "  <tbody>\n",
       "    <tr>\n",
       "      <th>0</th>\n",
       "      <td>1</td>\n",
       "      <td>10100</td>\n",
       "      <td>363</td>\n",
       "      <td>2003-01-06</td>\n",
       "      <td>2003-01-10</td>\n",
       "      <td>2004-11-17</td>\n",
       "      <td>50799.69</td>\n",
       "      <td>Shipped</td>\n",
       "    </tr>\n",
       "    <tr>\n",
       "      <th>1</th>\n",
       "      <td>2</td>\n",
       "      <td>10100</td>\n",
       "      <td>363</td>\n",
       "      <td>2003-01-06</td>\n",
       "      <td>2003-01-10</td>\n",
       "      <td>2003-01-16</td>\n",
       "      <td>10223.83</td>\n",
       "      <td>Shipped</td>\n",
       "    </tr>\n",
       "  </tbody>\n",
       "</table>\n",
       "</div>"
      ],
      "text/plain": [
       "   sales_fact_key  order_id  customer_id order_date_key shipped_date  \\\n",
       "0               1     10100          363     2003-01-06   2003-01-10   \n",
       "1               2     10100          363     2003-01-06   2003-01-10   \n",
       "\n",
       "  payment_date_key  payment_amount payment_status  \n",
       "0       2004-11-17        50799.69        Shipped  \n",
       "1       2003-01-16        10223.83        Shipped  "
      ]
     },
     "execution_count": 103,
     "metadata": {},
     "output_type": "execute_result"
    }
   ],
   "source": [
    "# 3. Insert a new column, with an ever-incrementing numeric value, to serve as the primary key.\n",
    "df_sales_fact.insert(0, \"sales_fact_key\", range(1, df_sales_fact.shape[0] + 1))\n",
    "# 4. Display the first 2 rows of the dataframe to validate your work\n",
    "df_sales_fact.head(2)"
   ]
  },
  {
   "cell_type": "code",
   "execution_count": 107,
   "id": "aa6fa645-5882-4d8b-824e-8cf9f26c3ae1",
   "metadata": {},
   "outputs": [],
   "source": [
    "df_sales_fact.head(2)\n",
    "table_name = \"sales_fact\"\n",
    "primary_key = \"sales_fact_key\"\n",
    "db_operation = \"insert\"\n",
    "\n",
    "set_dataframe(user_id, pwd, host_name, dst_dbname, df_sales_fact, table_name, primary_key, db_operation)"
   ]
  },
  {
   "cell_type": "code",
   "execution_count": 43,
   "id": "26695a33-ca80-4b8e-abd7-165a5fbeb4d1",
   "metadata": {},
   "outputs": [],
   "source": [
    "# demonstrate that the new data warehouse exists and contains the correct data"
   ]
  },
  {
   "cell_type": "code",
   "execution_count": null,
   "id": "cab040b3-7023-416e-bd22-a0253d0a7003",
   "metadata": {},
   "outputs": [],
   "source": []
  }
 ],
 "metadata": {
  "kernelspec": {
   "display_name": "Python [conda env:base] *",
   "language": "python",
   "name": "conda-base-py"
  },
  "language_info": {
   "codemirror_mode": {
    "name": "ipython",
    "version": 3
   },
   "file_extension": ".py",
   "mimetype": "text/x-python",
   "name": "python",
   "nbconvert_exporter": "python",
   "pygments_lexer": "ipython3",
   "version": "3.12.7"
  }
 },
 "nbformat": 4,
 "nbformat_minor": 5
}
